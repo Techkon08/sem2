{
 "cells": [
  {
   "cell_type": "code",
   "execution_count": 3,
   "id": "a9952885",
   "metadata": {},
   "outputs": [],
   "source": [
    "import nltk\n",
    "from nltk.corpus import stopwords, twitter_samples\n",
    "from nltk.sentiment import SentimentIntensityAnalyzer\n",
    "from statistics import mean\n",
    "from random import shuffle\n",
    "from colorama import Fore"
   ]
  },
  {
   "cell_type": "code",
   "execution_count": 4,
   "id": "0314cd35",
   "metadata": {},
   "outputs": [
    {
     "name": "stderr",
     "output_type": "stream",
     "text": [
      "[nltk_data] Downloading package twitter_samples to\n",
      "[nltk_data]     C:\\Users\\Mahesh\\AppData\\Roaming\\nltk_data...\n",
      "[nltk_data]   Unzipping corpora\\twitter_samples.zip.\n"
     ]
    },
    {
     "data": {
      "text/plain": [
       "True"
      ]
     },
     "execution_count": 4,
     "metadata": {},
     "output_type": "execute_result"
    }
   ],
   "source": [
    "nltk.download('twitter_samples')"
   ]
  },
  {
   "cell_type": "code",
   "execution_count": 5,
   "id": "0facddea",
   "metadata": {},
   "outputs": [
    {
     "name": "stderr",
     "output_type": "stream",
     "text": [
      "[nltk_data] Downloading package vader_lexicon to\n",
      "[nltk_data]     C:\\Users\\Mahesh\\AppData\\Roaming\\nltk_data...\n"
     ]
    },
    {
     "data": {
      "text/plain": [
       "True"
      ]
     },
     "execution_count": 5,
     "metadata": {},
     "output_type": "execute_result"
    }
   ],
   "source": [
    "nltk.download('vader_lexicon')"
   ]
  },
  {
   "cell_type": "code",
   "execution_count": 6,
   "id": "b78aece2",
   "metadata": {},
   "outputs": [
    {
     "data": {
      "text/plain": [
       "{'neg': 0.0, 'neu': 0.594, 'pos': 0.406, 'compound': 0.6249}"
      ]
     },
     "execution_count": 6,
     "metadata": {},
     "output_type": "execute_result"
    }
   ],
   "source": [
    "sia = SentimentIntensityAnalyzer()\n",
    "sia.polarity_scores(\"NLTK is a great package to perform NLP.\")"
   ]
  },
  {
   "cell_type": "code",
   "execution_count": 8,
   "id": "3e8a6913",
   "metadata": {},
   "outputs": [
    {
     "name": "stdout",
     "output_type": "stream",
     "text": [
      "\u001b[31mRT @STVNews: Sturgeon: 'It sounded as if Miliband was saying he'd rather see David Cameron back in power than work with the SNP.' http://t.…\n",
      "\u001b[31mRT @mrmarksteel: Tomorrow Miliband will say 'let me tell you this, I'm not even voting for myself in case I do a deal with the SNP'.\n",
      "\u001b[31mRT @LordAshcroft: YouGov/Sun poll CON 34%, LAB 35%, LDEM 8%, UKIP 12%, GRNS 5%\n",
      "\u001b[31m@cmonlukey all of them :(\n",
      "\u001b[31mRT @SolManOfficial: Labour will do a deal with SNP make no mistake! Scotland will rule the UK!\n"
     ]
    }
   ],
   "source": [
    "green = Fore.GREEN\n",
    "red = Fore.RED\n",
    "\n",
    "def ispositive(tweet : str) -> bool:\n",
    "    return sia.polarity_scores(tweet)[\"compound\"] > 0\n",
    "\n",
    "tweets = [tweet for tweet in twitter_samples.strings()]\n",
    "shuffle(tweets)\n",
    "\n",
    "for tweet in tweets[ : 10]:\n",
    "    color = green\n",
    "    if not ispositive(tweet):\n",
    "        color = red\n",
    "        print(f\"{color}{tweet}\")"
   ]
  },
  {
   "cell_type": "code",
   "execution_count": null,
   "id": "e4b2e0f4",
   "metadata": {},
   "outputs": [],
   "source": []
  }
 ],
 "metadata": {
  "kernelspec": {
   "display_name": "Python 3",
   "language": "python",
   "name": "python3"
  },
  "language_info": {
   "codemirror_mode": {
    "name": "ipython",
    "version": 3
   },
   "file_extension": ".py",
   "mimetype": "text/x-python",
   "name": "python",
   "nbconvert_exporter": "python",
   "pygments_lexer": "ipython3",
   "version": "3.8.8"
  }
 },
 "nbformat": 4,
 "nbformat_minor": 5
}
